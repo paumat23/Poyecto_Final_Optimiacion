{
 "cells": [
  {
   "cell_type": "markdown",
   "metadata": {
    "id": "tmyjpDaXSyCx"
   },
   "source": [
    "# DETECCIÓN DE MELANOMA USANDO MÁQUINAS DE VECTORES DE SOPORTE\n",
    "\n",
    "\n",
    "1. Presentación del problema:\n",
    "\n",
    "El cáncer de piel se suele desarrollar en la piel expuesta al sol como el cuero cabelludo, la cara, las orejas, el cuello, el pecho, los brazos, las manos y las piernas. Sin embargo, también puede ocurrir en zonas de la piel que normalmente no están expuestas a la luz solar. Esta forma frecuente de cáncer afecta a personas de todos los tonos de piel."
   ]
  },
  {
   "cell_type": "markdown",
   "metadata": {},
   "source": [
    "<img src=\"image.png\" width=\"500\"/>"
   ]
  },
  {
   "cell_type": "markdown",
   "metadata": {
    "id": "oXRSE3I4UET5"
   },
   "source": [
    "(Imagen propiedad de Mayo Fundation for Medical Education and Research https://www.mayoclinic.org/es-es/diseases-conditions/melanoma/symptoms-causes/syc-20374884#dialogId13745248)"
   ]
  },
  {
   "cell_type": "markdown",
   "metadata": {
    "id": "0oAMxkkyN_Xy"
   },
   "source": [
    "Existen tres tipos principales de cáncer de piel: basalioma, carcinoma de células escamosas de la piel y melanoma.\n",
    "\n",
    "Los cánceres de células basales y de células escamosas son los tipos de cánceres más comunes, sin embargo, debido a que muy raras veces estos hacen metástasis, los cánceres de piel de células basales y/o de células escamosas generalmente causan menos preocupación y se tratan de forma diferente que el melanoma. El melanoma, aunque es mucho menos frecuente comparado con los otros tipos de cáncer de piel, es más peligorso pues crece mucho más rapido y es más probable que se propague a otras partes del cuerpo si no se descubre y se trata a tiempo. Revisar la piel para detectar cambios sospechosos puede ayudar a detectar el cáncer de piel en sus estadios iniciales. **La detección temprana del cáncer de piel brinda mayor probabilidad de que el tratamiento del cáncer de piel sea exitoso.** Para reducir el riesgo de padecer cáncer de piel se debe limitar o evitar la exposición a la radiación ultravioleta (UV). \n",
    "\n",
    "* El carcinoma basocelular o basalioma: Tipo de cáncer de piel que comienza en las células basales, estas células producen las células cutáneas nuevas a medida que las viejas mueren.\n",
    "\n",
    "  El basalioma suele aparecer en la forma de un bulto ligeramente transparente en la piel, y ocurre con mayor frecuencia en zonas de la piel que están expuestas al sol, como la cabeza y el cuello. La protuberancia puede ser de color blanco perlado o de color rosado en la piel blanca, o de color marrón o negro brillante en la piel morena o negra. \n",
    "\n",
    "* El carcinoma de células escamosas de la piel: Es un tipo de cáncer de piel que se desarrolla en las células escamosas que componen las capas media y externa de la piel, estas células se encuentran en la capa más superficial de la piel, puede ocurrir en cualquier lugar del cuerpo donde se encuentren estas células.\n",
    "\n",
    "  El carcinoma de células escamosas de la piel no es mortal, pero puede ser agresivo. Los signos y síntomas de este tipo de cáncer de piel incluyen: Un nódulo rojo y firme o una llaga plana con una costra escamosa.\n",
    "\n",
    "* Melanoma: Es el tipo más grave de cáncer de piel, se forma en las células (melanocitos) que producen melanina, el pigmento que le da color a la piel. El melanoma también puede manifestarse en los ojos y, rara vez, dentro del cuerpo, como en la nariz o la garganta.\n",
    "\n",
    "  Los primeros signos y síntomas del melanoma suelen ser: Un cambio en un lunar existente o la formación de un nuevo bulto pigmentado o de aspecto inusual en la piel. El método ABCDE ayuda a identificar las características de los lunares inusuales que pueden indicar melanomas u otros tipos de cáncer de piel:\n",
    "\n",
    "    * A. Asimetría: Buscar lunares con forma irregular, como dos mitades que tienen un aspecto muy diferente.\n",
    "    * B. Borde irregular: Buscar lesiones cutaneas con bordes irregulares, cortes u ondas, características de los melanomas.\n",
    "    * C. Cambios de color: Buscar crecimientos que tengan muchos colores o una distribución desigual de estos.\n",
    "    * D. Diámetro: Buscar nuevos crecimientos en lunares que tengan más  de 6 milímetros.\n",
    "    * E. Evolución: Busca cambios en el tiempo, como un lunar que crece de tamaño o que cambia de color o de forma. También pueden evolucionar para desarrollar nuevos signos y síntomas, como picazón o sangrado.\n",
    "\n",
    "2. En busca de patrones para caracterizar las lesiones:\n",
    "\n",
    "Los dermatólogos evalúan las lesiones de la piel en busca de características inusuales como asimetría, ya sea en la forma misma de la lesión o en la distribución de colores de esta, pues una lesión dermatológica con esta cualidad puede indicar crecimiento irregular. La **dermatoscopia** es una técnica para estudiar las lesiones cutáneas *de manera no invasiva*, ayuda a detectar y diferenciar las lesiones potencialmente malignas, especialmente el melanoma, de otras lesiones hiperpigmentadas. El instrumento utilizado en esta técnica se llama dermatoscopio, es una herramienta que brinda una imagen más detallada de la lesión a estudiar, ayudando así a visualizar estructuras cutáneas profundas no visibles a simple vista (estructuras dermatoscópicas). \"Las 2 características más importantes de la dermatoscopia son los colores y las estructuras\"(Tanaka M. Dermoscopy basics and melanocytic lesions(Part 1 of 2). Hong Kong J Dermatol Venereol. 2013;21:124---9.). \n"
   ]
  },
  {
   "cell_type": "markdown",
   "metadata": {},
   "source": [
    "<img src=\"image2.png\" width=\"500\"/>"
   ]
  },
  {
   "cell_type": "markdown",
   "metadata": {
    "id": "5ZCb0bOLXv6p"
   },
   "source": [
    "Imagen de un dermatoscopio de inmersión (izquierda) y de luz polarizada (derecha). Imagenes propiedad de \"Dermatoscopia para principiantes (i): características generales-D. Palacios-Martínez y R.A. Díaz-Alonso.\""
   ]
  },
  {
   "cell_type": "markdown",
   "metadata": {
    "id": "6ZQRrl9-XI1D"
   },
   "source": [
    "Múltiples estudios se han desarrollado con el fin de seleccionar aquellas estructuras que guarden mejor sensibilidad y especificidad, de modo que sean fácilmente reproducibles entre diferentes observadores. \"Algunos de los principales parámetros dermatoscópicos que responden a dichas características son: pigmentación y color, retículo pigmentado, puntos y glóbulos\"(Malvehy J, Llambrich A, Puig S. Signos guía en el diagnóstico diferencial en dermatoscopia. Piel. Formación continuada en dermatología. 2003;18:85---91).\n",
    "\n",
    "Uno de los parámetros fundamentales en la dermatoscopia es la pigmentación y color, en el dermatoscopio se observan los colores: rojo, marrón claro o pardo, marrón oscuro, amarillo, azul, gris, negro y blanco. La presencia de melanina, hemoglobina y queratina en las diferentes capas de la piel determinan el color visualizado(Malvehy J, Puig S, Braun RP, Marghoob AA, Kopf AW. Principios dedermatoscopia. Barcelona: Diagnosis Dermatológica SL; 2009.)\n",
    "\n",
    "a) El color de la melanina es diferente según la profundidad a la que se encuentre: negro (estrato córneo), marrón oscuro (epidermis), marrón parduzco (unión dermoepidérmica), o azul (dermis papilar y media).\n",
    "\n",
    "b) La hemoglobina puede visualizarse de color rojo, púrpura, pardo o azulado, en función de su localización y de su grado de oxidación.\n",
    "\n",
    "c) El color de la queratina oscila entre amarillento (en un quiste) a amarillo-parduzco (en comedones abiertos)."
   ]
  },
  {
   "cell_type": "markdown",
   "metadata": {},
   "source": [
    "<img src=\"image3.png\" width=\"600\"/>"
   ]
  },
  {
   "cell_type": "markdown",
   "metadata": {
    "id": "X6AD9breZdd-"
   },
   "source": [
    "Imagen propiedad de \"Dermatoscopia para principiantes (ii): estructuras dermatoscópicas y métodos diagnósticos- D. Palacios-Martínez y R.A. Díaz-Alonso.\""
   ]
  },
  {
   "cell_type": "markdown",
   "metadata": {
    "id": "b_kK1JtzY1Jr"
   },
   "source": [
    "En dermatoscopia se evalúa el número, el tipo y la distribución de los colores en la lesión estudiada. Al estudiar una lesión mediante el uso del dermatoscopio se tiene en cuenta que la presencia de un solo color en una lesión melanocítica raramente corresponde a una lesión maligna, mientras, que la presencia de 5 o más colores distribuidos de manera asimétrica dentro de una misma lesión melanocítica es un signo muy específico de melanoma maligno. Este tipo de características son las que buscaremos en las diferentes imágenes de lesiones de piel, una vez segmentada la lesión, el código estudia la simetría tanto del tamaño, como de la distribución de color en la lesión.\n",
    "\n",
    "Como el melanoma es una lesión cutánea que presenta forma irregular, asimetría, variedad de colores, historial de cambios en forma, color, textura y/o tamaño, los expertos han diseñado métodos de diagnóstico para analizar patrones, como ejemplos tenemos la regla del ABCDE o la lista de verificación de 7 puntos. En estos métodos, la asimetría de la lesión desempeña el rol más relevante para la evaluación de las lesiones cutáneas; para la regla del ABCDE puede existir simetría en 0,1 o 2 ejes perpendiculares, además, se evalúa no solo el contorno sino la estructura y sus colores."
   ]
  },
  {
   "cell_type": "markdown",
   "metadata": {
    "id": "jUYig8D1OGAC"
   },
   "source": [
    "## Referencias:\n",
    "\n",
    "1. https://www.mayoclinic.org/es-es/diseases-conditions/skin-cancer/symptoms-causes/syc-20377605\n",
    "2. https://www.cancer.org/es/cancer/cancer-de-piel-de-celulas-basales-y-escamosas/acerca/que-es-cancer-de-piel-de-celulas-basales-y-escamosas.html\n",
    "3. https://rochepacientes.es/cancer/piel/como-esta-formada-piel.html#:~:text=Conoce%20como%20est%C3%A1%20formada%20la%20piel&text=C%C3%A9lulas%20planas%20o%20c%C3%A9lulas%20escamosas,renovaci%C3%B3n%20de%20la%20capa%20superficial.\n",
    "4.Automatic Detection of Symmetry in\n",
    "Dermoscopic Images Based on Shape\n",
    "and Texture - Vincent Toureau1, Pedro Bibiloni , Lidia Talavera-Martínez,\n",
    "and Manuel González-Hidalgo.\n",
    "5. John Shawe-Taylor, Shiliang Sun, A review of optimization methodologies in support vector machines,Neurocomputing,Volume 74, Issue 17,2011,Pages 3609-3618,ISSN 0925-2312,https://doi.org/10.1016/j.neucom.2011.06.026.\n",
    "(https://www.sciencedirect.com/science/article/pii/S0925231211004371) \n",
    "6. https://github.com/aladdinpersson/Machine-Learning-Collection/blob/master/ML/algorithms/svm/svm.py\n",
    "7. Afifi, S., GholamHosseini, H., & Sinha, R. (2017). SVM classifier on chip for melanoma detection. 2017 39th Annual International Conference of the IEEE Engineering in Medicine and Biology Society (EMBC). doi:10.1109/embc.2017.8036814\n",
    "8. Alquran, H., Qasmieh, I., Alqudah, A., Alhammouri, S., Alawneh, E., Abughazaleh, A., & Hasayen, F. (2017). The melanoma skin cancer detection and classification using support vector machine. 2017 IEEE Jordan Conference On Applied Electrical Engineering And Computing Technologies (AEECT). doi: 10.1109/aeect.2017.8257738"
   ]
  },
  {
   "cell_type": "markdown",
   "metadata": {},
   "source": [
    "**(Navegacion entre los notebooks)**\n",
    "\n",
    "- Ir a [modelo](Modelo.ipynb)\n",
    "\n",
    "- Ir a [Implementación](Implementacion.ipynb)\n",
    "\n",
    "---\n",
    "\n",
    "**Autores:** Alejandro Martin Salcedo, David Alexander Núñez Quintero, Paula Ximena Rodriguez Nempeque.\n",
    "\n",
    "---"
   ]
  },
  {
   "cell_type": "code",
   "execution_count": null,
   "metadata": {},
   "outputs": [],
   "source": []
  }
 ],
 "metadata": {
  "colab": {
   "collapsed_sections": [],
   "name": "Detección de Melanoma SVM - Presentacion Problema.ipynb",
   "provenance": []
  },
  "kernelspec": {
   "display_name": "Python 3",
   "language": "python",
   "name": "python3"
  },
  "language_info": {
   "codemirror_mode": {
    "name": "ipython",
    "version": 3
   },
   "file_extension": ".py",
   "mimetype": "text/x-python",
   "name": "python",
   "nbconvert_exporter": "python",
   "pygments_lexer": "ipython3",
   "version": "3.8.8"
  }
 },
 "nbformat": 4,
 "nbformat_minor": 1
}
